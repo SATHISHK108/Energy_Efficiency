{
 "cells": [
  {
   "cell_type": "code",
   "execution_count": 1,
   "id": "37a5b74b",
   "metadata": {},
   "outputs": [],
   "source": [
    "import pandas as pd\n",
    "import numpy as np\n",
    "import pickle\n",
    "df= pd.read_excel('ENB2012_data.XLSX')\n",
    "df.drop('Unnamed: 10',axis=1,inplace=True)\n",
    "df.drop('Unnamed: 11',axis=1,inplace=True)\n",
    "df = df.rename(columns={'X1':'Relative Compactness','X2':'Surface Area','X3':'Wall Area',\n",
    "                       'X4':'Roof Area','X5':'Overall Height','X6':'Orientation','X7':'Glazing Area',\n",
    "                       'X8':'Glazing Area Distribution','Y1':'Heating Load','Y2':'Cooling Load'})\n",
    "from sklearn.pipeline import make_pipeline\n",
    "from sklearn.preprocessing import Normalizer\n",
    "from sklearn.model_selection import train_test_split\n",
    "x = df.drop(['Heating Load','Cooling Load'],axis=1)\n",
    "y = df[['Heating Load','Cooling Load']]\n",
    "X_train,X_test,y_train,y_test = train_test_split(x,y,test_size=0.20,random_state=42)\n",
    "\n",
    "from sklearn.multioutput import MultiOutputRegressor\n",
    "from sklearn.ensemble import RandomForestRegressor\n",
    "pipe2 = make_pipeline(Normalizer(), MultiOutputRegressor(RandomForestRegressor(random_state=42)))\n",
    "pipe2.fit(X_train, y_train)\n",
    "\n",
    "filename = 'energy_efficiency_rfr_model.pkl'\n",
    "pickle.dump(pipe2,open(filename,'wb'))"
   ]
  },
  {
   "cell_type": "code",
   "execution_count": null,
   "id": "d8d2f1f4",
   "metadata": {},
   "outputs": [],
   "source": []
  }
 ],
 "metadata": {
  "kernelspec": {
   "display_name": "Python 3",
   "language": "python",
   "name": "python3"
  },
  "language_info": {
   "codemirror_mode": {
    "name": "ipython",
    "version": 3
   },
   "file_extension": ".py",
   "mimetype": "text/x-python",
   "name": "python",
   "nbconvert_exporter": "python",
   "pygments_lexer": "ipython3",
   "version": "3.8.8"
  }
 },
 "nbformat": 4,
 "nbformat_minor": 5
}
