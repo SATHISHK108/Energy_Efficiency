{
 "cells": [
  {
   "cell_type": "code",
   "execution_count": 40,
   "id": "46462b29",
   "metadata": {},
   "outputs": [],
   "source": [
    "import pandas as pd"
   ]
  },
  {
   "cell_type": "code",
   "execution_count": 41,
   "id": "0427be2f",
   "metadata": {},
   "outputs": [],
   "source": [
    "df= pd.read_excel('ENB2012_data.XLSX')"
   ]
  },
  {
   "cell_type": "code",
   "execution_count": 42,
   "id": "5867e266",
   "metadata": {},
   "outputs": [],
   "source": [
    "df.drop('Unnamed: 10',axis=1,inplace=True)"
   ]
  },
  {
   "cell_type": "code",
   "execution_count": 43,
   "id": "5802e382",
   "metadata": {},
   "outputs": [],
   "source": [
    "df.drop('Unnamed: 11',axis=1,inplace=True)"
   ]
  },
  {
   "cell_type": "code",
   "execution_count": 44,
   "id": "872a6a1d",
   "metadata": {},
   "outputs": [],
   "source": [
    "df = df.rename(columns={'X1':'Relative Compactness','X2':'Surface Area','X3':'Wall Area',\n",
    "                       'X4':'Roof Area','X5':'Overall Height','X6':'Orientation','X7':'Glazing Area',\n",
    "                       'X8':'Glazing Area Distribution','Y1':'Heating Load','Y2':'Cooling Load'})"
   ]
  },
  {
   "cell_type": "code",
   "execution_count": 45,
   "id": "b29263db",
   "metadata": {},
   "outputs": [],
   "source": [
    "x = df.drop(['Heating Load','Cooling Load'],axis=1)"
   ]
  },
  {
   "cell_type": "code",
   "execution_count": 46,
   "id": "32b9ae12",
   "metadata": {},
   "outputs": [],
   "source": [
    "y = df[['Heating Load','Cooling Load']]"
   ]
  },
  {
   "cell_type": "code",
   "execution_count": 47,
   "id": "7267ea45",
   "metadata": {},
   "outputs": [],
   "source": [
    "from sklearn.pipeline import make_pipeline\n",
    "from sklearn.preprocessing import Normalizer\n",
    "from sklearn.linear_model import LinearRegression\n",
    "from sklearn.model_selection import train_test_split\n",
    "X_train,X_test,y_train,y_test = train_test_split(x,y,test_size=0.20,random_state=42)"
   ]
  },
  {
   "cell_type": "code",
   "execution_count": 48,
   "id": "94fecf12",
   "metadata": {},
   "outputs": [
    {
     "data": {
      "text/plain": [
       "Pipeline(steps=[('normalizer', Normalizer()),\n",
       "                ('linearregression', LinearRegression())])"
      ]
     },
     "execution_count": 48,
     "metadata": {},
     "output_type": "execute_result"
    }
   ],
   "source": [
    "pipe = make_pipeline(Normalizer(), LinearRegression())\n",
    "pipe.fit(X_train, y_train)"
   ]
  },
  {
   "cell_type": "code",
   "execution_count": 49,
   "id": "9ad751e6",
   "metadata": {},
   "outputs": [
    {
     "data": {
      "text/plain": [
       "0.9031780840897492"
      ]
     },
     "execution_count": 49,
     "metadata": {},
     "output_type": "execute_result"
    }
   ],
   "source": [
    "pipe.score(X_test,y_test)\n"
   ]
  },
  {
   "cell_type": "code",
   "execution_count": 50,
   "id": "f86ba098",
   "metadata": {},
   "outputs": [],
   "source": [
    "from sklearn import metrics\n",
    "import numpy as np\n",
    "\n",
    "y_pred_LR=pipe.predict(X_test)"
   ]
  },
  {
   "cell_type": "code",
   "execution_count": 51,
   "id": "f402c095",
   "metadata": {},
   "outputs": [
    {
     "name": "stdout",
     "output_type": "stream",
     "text": [
      "Mean Absolute Error: 2.128645351696351\n",
      "Mean Squared Error: 9.469244334668367\n",
      "Root Mean Squared Error: 3.07721372911736\n"
     ]
    }
   ],
   "source": [
    "print('Mean Absolute Error:', metrics.mean_absolute_error(y_test, y_pred_LR))\n",
    "print('Mean Squared Error:', metrics.mean_squared_error(y_test, y_pred_LR))\n",
    "print('Root Mean Squared Error:', np.sqrt(metrics.mean_squared_error(y_test, y_pred_LR)))"
   ]
  },
  {
   "cell_type": "code",
   "execution_count": null,
   "id": "f2bd3e03",
   "metadata": {},
   "outputs": [],
   "source": []
  },
  {
   "cell_type": "code",
   "execution_count": 52,
   "id": "7aadcfe2",
   "metadata": {},
   "outputs": [],
   "source": [
    "from sklearn.tree import DecisionTreeRegressor"
   ]
  },
  {
   "cell_type": "code",
   "execution_count": 53,
   "id": "55386a2a",
   "metadata": {},
   "outputs": [
    {
     "data": {
      "text/plain": [
       "Pipeline(steps=[('normalizer', Normalizer()),\n",
       "                ('decisiontreeregressor',\n",
       "                 DecisionTreeRegressor(random_state=1))])"
      ]
     },
     "execution_count": 53,
     "metadata": {},
     "output_type": "execute_result"
    }
   ],
   "source": [
    "pipe1 = make_pipeline(Normalizer(), DecisionTreeRegressor(random_state=1))\n",
    "pipe1.fit(X_train, y_train)"
   ]
  },
  {
   "cell_type": "code",
   "execution_count": 54,
   "id": "76cabfb7",
   "metadata": {},
   "outputs": [
    {
     "data": {
      "text/plain": [
       "0.9629925067854805"
      ]
     },
     "execution_count": 54,
     "metadata": {},
     "output_type": "execute_result"
    }
   ],
   "source": [
    "pipe1.score(X_test,y_test)"
   ]
  },
  {
   "cell_type": "code",
   "execution_count": 55,
   "id": "9640c67b",
   "metadata": {},
   "outputs": [],
   "source": [
    "y_pred_DTR=pipe1.predict(X_test)"
   ]
  },
  {
   "cell_type": "code",
   "execution_count": 56,
   "id": "086c49a4",
   "metadata": {},
   "outputs": [
    {
     "name": "stdout",
     "output_type": "stream",
     "text": [
      "Mean Absolute Error: 0.9063766233766233\n",
      "Mean Squared Error: 3.455853428571429\n",
      "Root Mean Squared Error: 1.8589925843239474\n"
     ]
    }
   ],
   "source": [
    "print('Mean Absolute Error:', metrics.mean_absolute_error(y_test, y_pred_DTR))\n",
    "print('Mean Squared Error:', metrics.mean_squared_error(y_test, y_pred_DTR))\n",
    "print('Root Mean Squared Error:', np.sqrt(metrics.mean_squared_error(y_test, y_pred_DTR)))"
   ]
  },
  {
   "cell_type": "code",
   "execution_count": 69,
   "id": "01c4c560",
   "metadata": {},
   "outputs": [
    {
     "data": {
      "text/plain": [
       "Pipeline(steps=[('normalizer', Normalizer()),\n",
       "                ('multioutputregressor',\n",
       "                 MultiOutputRegressor(estimator=RandomForestRegressor(random_state=42)))])"
      ]
     },
     "execution_count": 69,
     "metadata": {},
     "output_type": "execute_result"
    }
   ],
   "source": [
    "from sklearn.multioutput import MultiOutputRegressor\n",
    "from sklearn.ensemble import RandomForestRegressor\n",
    "pipe2 = make_pipeline(Normalizer(), MultiOutputRegressor(RandomForestRegressor(random_state=42)))\n",
    "pipe2.fit(X_train, y_train)"
   ]
  },
  {
   "cell_type": "code",
   "execution_count": 70,
   "id": "f9f612eb",
   "metadata": {},
   "outputs": [
    {
     "data": {
      "text/plain": [
       "0.9781337590501579"
      ]
     },
     "execution_count": 70,
     "metadata": {},
     "output_type": "execute_result"
    }
   ],
   "source": [
    "pipe2.score(X_test,y_test)"
   ]
  },
  {
   "cell_type": "code",
   "execution_count": 71,
   "id": "6e95367c",
   "metadata": {},
   "outputs": [],
   "source": [
    "y_pred=pipe2.predict([[0.98,514.5,294.0,110.25,7.0,2,0.0,0]])"
   ]
  },
  {
   "cell_type": "code",
   "execution_count": 72,
   "id": "2acefefa",
   "metadata": {},
   "outputs": [
    {
     "name": "stdout",
     "output_type": "stream",
     "text": [
      "[[16.5038 22.1005]]\n"
     ]
    }
   ],
   "source": [
    "print(y_pred)"
   ]
  },
  {
   "cell_type": "code",
   "execution_count": null,
   "id": "7df5236b",
   "metadata": {},
   "outputs": [],
   "source": []
  },
  {
   "cell_type": "code",
   "execution_count": null,
   "id": "55b523d6",
   "metadata": {},
   "outputs": [],
   "source": []
  }
 ],
 "metadata": {
  "kernelspec": {
   "display_name": "Python 3",
   "language": "python",
   "name": "python3"
  },
  "language_info": {
   "codemirror_mode": {
    "name": "ipython",
    "version": 3
   },
   "file_extension": ".py",
   "mimetype": "text/x-python",
   "name": "python",
   "nbconvert_exporter": "python",
   "pygments_lexer": "ipython3",
   "version": "3.8.8"
  }
 },
 "nbformat": 4,
 "nbformat_minor": 5
}
